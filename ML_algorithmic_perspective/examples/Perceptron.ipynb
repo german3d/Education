{
 "cells": [
  {
   "cell_type": "code",
   "execution_count": 1,
   "metadata": {
    "collapsed": true
   },
   "outputs": [],
   "source": [
    "import os\n",
    "import numpy as np\n",
    "import matplotlib.pyplot as plt\n",
    "\n",
    "from algorithms.neural_network import Perceptron\n",
    "\n",
    "%matplotlib inline"
   ]
  },
  {
   "cell_type": "markdown",
   "metadata": {},
   "source": [
    "### OR logic function"
   ]
  },
  {
   "cell_type": "code",
   "execution_count": 2,
   "metadata": {},
   "outputs": [
    {
     "name": "stdout",
     "output_type": "stream",
     "text": [
      "iteration #: 0\n",
      "iteration #: 1\n",
      "iteration #: 2\n",
      "iteration #: 3\n",
      "iteration #: 4\n",
      "iteration #: 5\n",
      "early stopping - all predictions are correct\n",
      "weights:\n",
      "[[ 0.56030653]\n",
      " [ 0.55445446]\n",
      " [-0.22883534]]\n",
      "activations:\n",
      "[[0]\n",
      " [1]\n",
      " [1]\n",
      " [1]]\n",
      "custom prediction:\n",
      "[[1]]\n"
     ]
    }
   ],
   "source": [
    "# OR logic function\n",
    "X = np.array([[0,0],[0,1],[1,0],[1,1]])\n",
    "y = np.array([[0],[1],[1],[1]])\n",
    "\n",
    "perc = Perceptron(num_neurons=1) # just one output\n",
    "perc.fit(X, y)\n",
    "\n",
    "print \"weights:\\n\" , perc.weights\n",
    "print \"activations:\\n\", perc.is_activated\n",
    "print \"custom prediction:\\n\", perc.predict(np.array([[0.8, 0.8]]))"
   ]
  },
  {
   "cell_type": "markdown",
   "metadata": {},
   "source": [
    "### XOR logic function"
   ]
  },
  {
   "cell_type": "code",
   "execution_count": 3,
   "metadata": {},
   "outputs": [
    {
     "name": "stdout",
     "output_type": "stream",
     "text": [
      "iteration #: 0\n",
      "iteration #: 1\n",
      "iteration #: 2\n",
      "iteration #: 3\n",
      "iteration #: 4\n",
      "iteration #: 5\n",
      "iteration #: 6\n",
      "iteration #: 7\n",
      "iteration #: 8\n",
      "iteration #: 9\n",
      "weights:\n",
      "[[ 0.02738622]\n",
      " [ 0.05936701]\n",
      " [ 0.0235676 ]]\n",
      "activations:\n",
      "[[0]\n",
      " [0]\n",
      " [0]\n",
      " [0]]\n"
     ]
    }
   ],
   "source": [
    "# XOR logic function\n",
    "X = np.array([[0,0],[0,1],[1,0],[1,1]])\n",
    "y = np.array([[0],[1],[1],[0]])\n",
    "\n",
    "perc = Perceptron(num_neurons=1) # just one output\n",
    "perc.fit(X, y)\n",
    "\n",
    "print \"weights:\\n\" , perc.weights\n",
    "print \"activations:\\n\", perc.is_activated"
   ]
  },
  {
   "cell_type": "markdown",
   "metadata": {},
   "source": [
    "Artificial solution - adding extra 3rd dimension (x1*x2)"
   ]
  },
  {
   "cell_type": "code",
   "execution_count": 4,
   "metadata": {},
   "outputs": [
    {
     "name": "stdout",
     "output_type": "stream",
     "text": [
      "iteration #: 0\n",
      "iteration #: 1\n",
      "iteration #: 2\n",
      "iteration #: 3\n",
      "iteration #: 4\n",
      "iteration #: 5\n",
      "iteration #: 6\n",
      "iteration #: 7\n",
      "iteration #: 8\n",
      "iteration #: 9\n",
      "iteration #: 10\n",
      "iteration #: 11\n",
      "iteration #: 12\n",
      "early stopping - all predictions are correct\n",
      "weights:\n",
      "[[ 0.25223283]\n",
      " [ 0.31132964]\n",
      " [-0.93286632]\n",
      " [-0.15573907]]\n",
      "activations:\n",
      "[[0]\n",
      " [1]\n",
      " [1]\n",
      " [0]]\n"
     ]
    }
   ],
   "source": [
    "X = np.array([[0,0,0],[0,1,0],[1,0,0],[1,1,1]])\n",
    "y = np.array([[0],[1],[1],[0]])\n",
    "\n",
    "perc = Perceptron(num_neurons=1) # just one output\n",
    "perc.fit(X, y, num_iter=20)\n",
    "\n",
    "print \"weights:\\n\" , perc.weights\n",
    "print \"activations:\\n\", perc.is_activated"
   ]
  },
  {
   "cell_type": "markdown",
   "metadata": {},
   "source": [
    "### Classification problem (UCI Pima dataset)"
   ]
  },
  {
   "cell_type": "code",
   "execution_count": 52,
   "metadata": {},
   "outputs": [
    {
     "name": "stdout",
     "output_type": "stream",
     "text": [
      "Size of data: (768, 9)\n"
     ]
    }
   ],
   "source": [
    "# UCI ML Repository (Pima dataset)\n",
    "\n",
    "if not os.path.isdir(\"./data\"):\n",
    "    os.mkdir(\"./data\")\n",
    "    \n",
    "if not os.path.isfile(\"data/uci_pima.txt\"):\n",
    "    # downloading data    \n",
    "    !wget -O data/uci_pima.txt \"https://archive.ics.uci.edu/ml/machine-learning-databases/pima-indians-diabetes/pima-indians-diabetes.data\"\n",
    "else:    \n",
    "    # reading file with numpy\n",
    "    data = np.loadtxt(\"data/uci_pima.txt\", delimiter=\",\")\n",
    "\n",
    "    print \"Size of data: {}\".format(data.shape)"
   ]
  },
  {
   "cell_type": "markdown",
   "metadata": {},
   "source": [
    "Visualize classes for the first 2 features"
   ]
  },
  {
   "cell_type": "code",
   "execution_count": 64,
   "metadata": {},
   "outputs": [
    {
     "data": {
      "image/png": "[encoded data removed]",
      "text/plain": [
       "<matplotlib.figure.Figure at 0x10a118d90>"
      ]
     },
     "metadata": {},
     "output_type": "display_data"
    }
   ],
   "source": [
    "ind_pos = np.where(data[:,-1]==1, True, False)\n",
    "\n",
    "plt.figure(figsize=(7,7))\n",
    "plt.plot(data[ind_pos,0], data[ind_pos,1], \"x\", markersize=3, label=\"class_1\", color=\"red\");\n",
    "plt.plot(data[~ind_pos,0], data[~ind_pos,1], \"o\", markersize=3, label=\"class_2\", color=\"navy\");\n",
    "plt.xlabel(\"Feature #1\");\n",
    "plt.ylabel(\"Feature #2\");\n",
    "plt.title(\"Pima classes\");\n",
    "plt.legend(loc=\"lower right\");\n",
    "plt.grid();"
   ]
  },
  {
   "cell_type": "markdown",
   "metadata": {},
   "source": [
    "Simple split into train/test set"
   ]
  },
  {
   "cell_type": "code",
   "execution_count": 66,
   "metadata": {},
   "outputs": [
    {
     "name": "stdout",
     "output_type": "stream",
     "text": [
      "iteration #: 0\n",
      "iteration #: 1\n",
      "iteration #: 2\n",
      "iteration #: 3\n",
      "iteration #: 4\n",
      "iteration #: 5\n",
      "iteration #: 6\n",
      "iteration #: 7\n",
      "iteration #: 8\n",
      "iteration #: 9\n",
      "test accuracy: 0.65\n"
     ]
    }
   ],
   "source": [
    "X_train = data[::2, :-1]\n",
    "y_train = data[::2, -1]\n",
    "X_test = data[1::2, :-1]\n",
    "y_test = data[1::2, -1]\n",
    "\n",
    "perc = Perceptron(num_neurons=1)\n",
    "perc.fit(X_train, y_train, num_iter=10)\n",
    "test_acc = perc.test_accuracy(X_test, y_test)\n",
    "\n",
    "print \"test accuracy: %.2f\"%test_acc"
   ]
  }
 ],
 "metadata": {
  "kernelspec": {
   "display_name": "Python 2",
   "language": "python",
   "name": "python2"
  },
  "language_info": {
   "codemirror_mode": {
    "name": "ipython",
    "version": 2
   },
   "file_extension": ".py",
   "mimetype": "text/x-python",
   "name": "python",
   "nbconvert_exporter": "python",
   "pygments_lexer": "ipython2",
   "version": "2.7.14"
  }
 },
 "nbformat": 4,
 "nbformat_minor": 2
}
