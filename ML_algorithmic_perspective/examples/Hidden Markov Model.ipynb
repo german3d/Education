{
 "cells": [
  {
   "cell_type": "markdown",
   "metadata": {},
   "source": [
    "### Hidden Markov Model (HMM)\n",
    "\n",
    "Assume for simplicity, that my wife has 4 just states:\n",
    "- happy\n",
    "- tired \n",
    "- angry\n",
    "- normal\n",
    "\n",
    "She cannot say directly in which state she is right now (hidden states), and we can just guess using external observable information. Let's say, she can do one of the following actions: \n",
    "- cook\n",
    "- slide Instagram\n",
    "- study\n",
    "- and do shopping\n",
    "\n",
    "The goal is to understand her real (hidden) state looking at what she is doing and what she has done before this current moment. In other words, there is a sequence of observable states/actions which might be used to retrieve sequence of hidden states.\n",
    "\n",
    "We can use **Hidden Markov Model** for this purpose."
   ]
  },
  {
   "cell_type": "code",
   "execution_count": 1,
   "metadata": {
    "ExecuteTime": {
     "end_time": "2018-08-11T22:56:52.900000Z",
     "start_time": "2018-08-11T22:56:43.576279Z"
    }
   },
   "outputs": [],
   "source": [
    "import numpy as np\n",
    "import pandas as pd\n",
    "from nltk.tag import hmm\n",
    "from sklearn.metrics import classification_report\n",
    "from IPython.display import display"
   ]
  },
  {
   "cell_type": "markdown",
   "metadata": {},
   "source": [
    "Let's define **true** parameters of HMM"
   ]
  },
  {
   "cell_type": "code",
   "execution_count": 2,
   "metadata": {
    "ExecuteTime": {
     "end_time": "2018-08-11T22:57:00.145657Z",
     "start_time": "2018-08-11T22:57:00.115116Z"
    }
   },
   "outputs": [
    {
     "name": "stdout",
     "output_type": "stream",
     "text": [
      "Hidden states transition probabilities matrix:\n"
     ]
    },
    {
     "data": {
      "text/html": [
       "<div>\n",
       "<style scoped>\n",
       "    .dataframe tbody tr th:only-of-type {\n",
       "        vertical-align: middle;\n",
       "    }\n",
       "\n",
       "    .dataframe tbody tr th {\n",
       "        vertical-align: top;\n",
       "    }\n",
       "\n",
       "    .dataframe thead th {\n",
       "        text-align: right;\n",
       "    }\n",
       "</style>\n",
       "<table border=\"1\" class=\"dataframe\">\n",
       "  <thead>\n",
       "    <tr style=\"text-align: right;\">\n",
       "      <th></th>\n",
       "      <th>happy</th>\n",
       "      <th>tired</th>\n",
       "      <th>angry</th>\n",
       "      <th>normal</th>\n",
       "    </tr>\n",
       "  </thead>\n",
       "  <tbody>\n",
       "    <tr>\n",
       "      <th>happy</th>\n",
       "      <td>0.5</td>\n",
       "      <td>0.1</td>\n",
       "      <td>0.1</td>\n",
       "      <td>0.3</td>\n",
       "    </tr>\n",
       "    <tr>\n",
       "      <th>tired</th>\n",
       "      <td>0.2</td>\n",
       "      <td>0.4</td>\n",
       "      <td>0.1</td>\n",
       "      <td>0.3</td>\n",
       "    </tr>\n",
       "    <tr>\n",
       "      <th>angry</th>\n",
       "      <td>0.1</td>\n",
       "      <td>0.1</td>\n",
       "      <td>0.6</td>\n",
       "      <td>0.2</td>\n",
       "    </tr>\n",
       "    <tr>\n",
       "      <th>normal</th>\n",
       "      <td>0.3</td>\n",
       "      <td>0.2</td>\n",
       "      <td>0.2</td>\n",
       "      <td>0.3</td>\n",
       "    </tr>\n",
       "  </tbody>\n",
       "</table>\n",
       "</div>"
      ],
      "text/plain": [
       "        happy  tired  angry  normal\n",
       "happy     0.5    0.1    0.1     0.3\n",
       "tired     0.2    0.4    0.1     0.3\n",
       "angry     0.1    0.1    0.6     0.2\n",
       "normal    0.3    0.2    0.2     0.3"
      ]
     },
     "metadata": {},
     "output_type": "display_data"
    },
    {
     "name": "stdout",
     "output_type": "stream",
     "text": [
      "\n",
      "\n",
      "Observed states emission probabilities matrix:\n"
     ]
    },
    {
     "data": {
      "text/html": [
       "<div>\n",
       "<style scoped>\n",
       "    .dataframe tbody tr th:only-of-type {\n",
       "        vertical-align: middle;\n",
       "    }\n",
       "\n",
       "    .dataframe tbody tr th {\n",
       "        vertical-align: top;\n",
       "    }\n",
       "\n",
       "    .dataframe thead th {\n",
       "        text-align: right;\n",
       "    }\n",
       "</style>\n",
       "<table border=\"1\" class=\"dataframe\">\n",
       "  <thead>\n",
       "    <tr style=\"text-align: right;\">\n",
       "      <th></th>\n",
       "      <th>cooking</th>\n",
       "      <th>instagraming</th>\n",
       "      <th>studying</th>\n",
       "      <th>shopping</th>\n",
       "    </tr>\n",
       "  </thead>\n",
       "  <tbody>\n",
       "    <tr>\n",
       "      <th>happy</th>\n",
       "      <td>0.6</td>\n",
       "      <td>0.1</td>\n",
       "      <td>0.1</td>\n",
       "      <td>0.2</td>\n",
       "    </tr>\n",
       "    <tr>\n",
       "      <th>tired</th>\n",
       "      <td>0.1</td>\n",
       "      <td>0.7</td>\n",
       "      <td>0.1</td>\n",
       "      <td>0.1</td>\n",
       "    </tr>\n",
       "    <tr>\n",
       "      <th>angry</th>\n",
       "      <td>0.2</td>\n",
       "      <td>0.1</td>\n",
       "      <td>0.1</td>\n",
       "      <td>0.6</td>\n",
       "    </tr>\n",
       "    <tr>\n",
       "      <th>normal</th>\n",
       "      <td>0.3</td>\n",
       "      <td>0.3</td>\n",
       "      <td>0.3</td>\n",
       "      <td>0.1</td>\n",
       "    </tr>\n",
       "  </tbody>\n",
       "</table>\n",
       "</div>"
      ],
      "text/plain": [
       "        cooking  instagraming  studying  shopping\n",
       "happy       0.6           0.1       0.1       0.2\n",
       "tired       0.1           0.7       0.1       0.1\n",
       "angry       0.2           0.1       0.1       0.6\n",
       "normal      0.3           0.3       0.3       0.1"
      ]
     },
     "metadata": {},
     "output_type": "display_data"
    }
   ],
   "source": [
    "# Hidden states\n",
    "states = [\"happy\", \"tired\", \"angry\", \"normal\"]\n",
    "\n",
    "# Observed states\n",
    "symbols = [\"cooking\", \"instagraming\", \"studying\", \"shopping\"]\n",
    "\n",
    "# Transition probabilities matrix\n",
    "A_true = np.array([[0.5, 0.1, 0.1, 0.3],\n",
    "                   [0.2, 0.4, 0.1, 0.3],\n",
    "                   [0.1, 0.1, 0.6, 0.2],\n",
    "                   [0.3, 0.2, 0.2, 0.3]], dtype=np.float64)\n",
    "\n",
    "# Emission probabilities matrix\n",
    "B_true = np.array([[0.6, 0.1, 0.1, 0.2],\n",
    "                   [0.1, 0.7, 0.1, 0.1],\n",
    "                   [0.2, 0.1, 0.1, 0.6],\n",
    "                   [0.3, 0.3, 0.3, 0.1]], dtype=np.float64)\n",
    "\n",
    "# Probabilities of initial states (prior)\n",
    "pi_true = np.array([0.6, 0.2, 0.1, 0.1], dtype=np.float64)\n",
    "\n",
    "print(\"Hidden states transition probabilities matrix:\")\n",
    "display(pd.DataFrame(data=A_true, index=states, columns=states))\n",
    "\n",
    "print(\"\\n\\nObserved states emission probabilities matrix:\")\n",
    "display(pd.DataFrame(data=B_true, index=states, columns=symbols))"
   ]
  },
  {
   "cell_type": "markdown",
   "metadata": {},
   "source": [
    "Initialize HMM model with **true** parameters"
   ]
  },
  {
   "cell_type": "code",
   "execution_count": 3,
   "metadata": {
    "ExecuteTime": {
     "end_time": "2018-08-11T22:57:13.616381Z",
     "start_time": "2018-08-11T22:57:13.613531Z"
    }
   },
   "outputs": [],
   "source": [
    "model_true = hmm._create_hmm_tagger(states, symbols, A_true, B_true, pi_true)"
   ]
  },
  {
   "cell_type": "markdown",
   "metadata": {},
   "source": [
    "Generate sequence of pairs (observable state, hidden state) using HMM.<br>\n",
    "We have been living together with my wife for 5 years, so let's say we have 5 * 365 days sequence length."
   ]
  },
  {
   "cell_type": "code",
   "execution_count": 5,
   "metadata": {
    "ExecuteTime": {
     "end_time": "2018-08-11T22:58:38.860602Z",
     "start_time": "2018-08-11T22:58:38.844374Z"
    },
    "scrolled": true
   },
   "outputs": [
    {
     "name": "stdout",
     "output_type": "stream",
     "text": [
      "First 7 days:\n"
     ]
    },
    {
     "data": {
      "text/plain": [
       "[('cooking', 'happy'),\n",
       " ('cooking', 'normal'),\n",
       " ('instagraming', 'tired'),\n",
       " ('instagraming', 'normal'),\n",
       " ('shopping', 'tired'),\n",
       " ('studying', 'normal'),\n",
       " ('cooking', 'happy')]"
      ]
     },
     "execution_count": 5,
     "metadata": {},
     "output_type": "execute_result"
    }
   ],
   "source": [
    "seq_len = 5 * 365\n",
    "seq = model_true.random_sample(rng=np.random, length=seq_len)\n",
    "\n",
    "print(\"First 7 days:\")\n",
    "seq[:7]"
   ]
  },
  {
   "cell_type": "markdown",
   "metadata": {},
   "source": [
    "Let's pretend we do not know real (true) parameters of HMM.\n",
    "\n",
    "Then we can **estimate** them using:\n",
    "- supervised algorithm (MLE)\n",
    "- unsupervised algorithm (Baum-Welch)\n",
    "- both of them (i.e. Baum-Welch with initialized probabilities obtained from MLE estimation)"
   ]
  },
  {
   "cell_type": "code",
   "execution_count": 6,
   "metadata": {
    "ExecuteTime": {
     "end_time": "2018-08-11T22:58:46.782091Z",
     "start_time": "2018-08-11T22:58:46.777381Z"
    }
   },
   "outputs": [],
   "source": [
    "def get_probabilities_matrix(model, kind):\n",
    "    \"\"\"Returns probabilities in matrix form from fitted NLTK HMM Tagger\"\"\"\n",
    "    source = states\n",
    "    if kind == \"transition\":\n",
    "        destination = model._states\n",
    "        values = model._transitions\n",
    "    elif kind == \"emission\":\n",
    "        destination = model._symbols\n",
    "        values = model._outputs\n",
    "    else:\n",
    "        raise ValueError(\"Invalid parameter 'kind', must be 'transition' or 'emission'\")\n",
    "    \n",
    "    iters = (values[sj].prob(si) for sj in source for si in destination)\n",
    "    probas = np.fromiter(iters, dtype=np.float64)\n",
    "    N, M = len(source), len(destination)\n",
    "    return probas.reshape((N, M))"
   ]
  },
  {
   "cell_type": "markdown",
   "metadata": {},
   "source": [
    "Supervised estimation (MLE):"
   ]
  },
  {
   "cell_type": "code",
   "execution_count": 7,
   "metadata": {
    "ExecuteTime": {
     "end_time": "2018-08-11T22:58:59.895364Z",
     "start_time": "2018-08-11T22:58:59.871008Z"
    }
   },
   "outputs": [
    {
     "name": "stdout",
     "output_type": "stream",
     "text": [
      "Transition probabilities matrix [TRUE]:\n"
     ]
    },
    {
     "data": {
      "text/html": [
       "<div>\n",
       "<style scoped>\n",
       "    .dataframe tbody tr th:only-of-type {\n",
       "        vertical-align: middle;\n",
       "    }\n",
       "\n",
       "    .dataframe tbody tr th {\n",
       "        vertical-align: top;\n",
       "    }\n",
       "\n",
       "    .dataframe thead th {\n",
       "        text-align: right;\n",
       "    }\n",
       "</style>\n",
       "<table border=\"1\" class=\"dataframe\">\n",
       "  <thead>\n",
       "    <tr style=\"text-align: right;\">\n",
       "      <th></th>\n",
       "      <th>happy</th>\n",
       "      <th>tired</th>\n",
       "      <th>angry</th>\n",
       "      <th>normal</th>\n",
       "    </tr>\n",
       "  </thead>\n",
       "  <tbody>\n",
       "    <tr>\n",
       "      <th>happy</th>\n",
       "      <td>0.5</td>\n",
       "      <td>0.1</td>\n",
       "      <td>0.1</td>\n",
       "      <td>0.3</td>\n",
       "    </tr>\n",
       "    <tr>\n",
       "      <th>tired</th>\n",
       "      <td>0.2</td>\n",
       "      <td>0.4</td>\n",
       "      <td>0.1</td>\n",
       "      <td>0.3</td>\n",
       "    </tr>\n",
       "    <tr>\n",
       "      <th>angry</th>\n",
       "      <td>0.1</td>\n",
       "      <td>0.1</td>\n",
       "      <td>0.6</td>\n",
       "      <td>0.2</td>\n",
       "    </tr>\n",
       "    <tr>\n",
       "      <th>normal</th>\n",
       "      <td>0.3</td>\n",
       "      <td>0.2</td>\n",
       "      <td>0.2</td>\n",
       "      <td>0.3</td>\n",
       "    </tr>\n",
       "  </tbody>\n",
       "</table>\n",
       "</div>"
      ],
      "text/plain": [
       "        happy  tired  angry  normal\n",
       "happy     0.5    0.1    0.1     0.3\n",
       "tired     0.2    0.4    0.1     0.3\n",
       "angry     0.1    0.1    0.6     0.2\n",
       "normal    0.3    0.2    0.2     0.3"
      ]
     },
     "metadata": {},
     "output_type": "display_data"
    },
    {
     "name": "stdout",
     "output_type": "stream",
     "text": [
      "Transition probabilities matrix [ESTIMATED]:\n"
     ]
    },
    {
     "data": {
      "text/html": [
       "<div>\n",
       "<style scoped>\n",
       "    .dataframe tbody tr th:only-of-type {\n",
       "        vertical-align: middle;\n",
       "    }\n",
       "\n",
       "    .dataframe tbody tr th {\n",
       "        vertical-align: top;\n",
       "    }\n",
       "\n",
       "    .dataframe thead th {\n",
       "        text-align: right;\n",
       "    }\n",
       "</style>\n",
       "<table border=\"1\" class=\"dataframe\">\n",
       "  <thead>\n",
       "    <tr style=\"text-align: right;\">\n",
       "      <th></th>\n",
       "      <th>happy</th>\n",
       "      <th>tired</th>\n",
       "      <th>angry</th>\n",
       "      <th>normal</th>\n",
       "    </tr>\n",
       "  </thead>\n",
       "  <tbody>\n",
       "    <tr>\n",
       "      <th>happy</th>\n",
       "      <td>0.48</td>\n",
       "      <td>0.10</td>\n",
       "      <td>0.10</td>\n",
       "      <td>0.32</td>\n",
       "    </tr>\n",
       "    <tr>\n",
       "      <th>tired</th>\n",
       "      <td>0.14</td>\n",
       "      <td>0.40</td>\n",
       "      <td>0.08</td>\n",
       "      <td>0.37</td>\n",
       "    </tr>\n",
       "    <tr>\n",
       "      <th>angry</th>\n",
       "      <td>0.11</td>\n",
       "      <td>0.10</td>\n",
       "      <td>0.62</td>\n",
       "      <td>0.18</td>\n",
       "    </tr>\n",
       "    <tr>\n",
       "      <th>normal</th>\n",
       "      <td>0.31</td>\n",
       "      <td>0.22</td>\n",
       "      <td>0.22</td>\n",
       "      <td>0.25</td>\n",
       "    </tr>\n",
       "  </tbody>\n",
       "</table>\n",
       "</div>"
      ],
      "text/plain": [
       "        happy  tired  angry  normal\n",
       "happy    0.48   0.10   0.10    0.32\n",
       "tired    0.14   0.40   0.08    0.37\n",
       "angry    0.11   0.10   0.62    0.18\n",
       "normal   0.31   0.22   0.22    0.25"
      ]
     },
     "metadata": {},
     "output_type": "display_data"
    }
   ],
   "source": [
    "trainer = hmm.HiddenMarkovModelTrainer(states=states, symbols=symbols)\n",
    "model_mle = trainer.train_supervised([seq])\n",
    "\n",
    "A_mle = get_probabilities_matrix(model_mle, kind=\"transition\")\n",
    "B_mle = get_probabilities_matrix(model_mle, kind=\"emission\")\n",
    "\n",
    "print(\"Transition probabilities matrix [TRUE]:\")\n",
    "display(pd.DataFrame(data=A_true, index=states, columns=states))\n",
    "\n",
    "print(\"Transition probabilities matrix [ESTIMATED]:\")\n",
    "display(pd.DataFrame(data=A_mle.round(2), index=states, columns=states))"
   ]
  },
  {
   "cell_type": "markdown",
   "metadata": {
    "ExecuteTime": {
     "end_time": "2018-08-11T19:59:43.343645Z",
     "start_time": "2018-08-11T19:59:43.326593Z"
    }
   },
   "source": [
    "The estimation with supervised MLE approach is pretty good."
   ]
  },
  {
   "cell_type": "code",
   "execution_count": 8,
   "metadata": {
    "ExecuteTime": {
     "end_time": "2018-08-11T22:59:04.993532Z",
     "start_time": "2018-08-11T22:59:04.989202Z"
    }
   },
   "outputs": [
    {
     "name": "stdout",
     "output_type": "stream",
     "text": [
      "Supervised estimation...\n",
      "Average abs error, transition matrix: 0.022\n",
      "Average abs error, emission matrix: 0.013\n"
     ]
    }
   ],
   "source": [
    "print(\"Supervised estimation...\")\n",
    "print(\"Average abs error, transition matrix: {:.3f}\" \\\n",
    "          .format(np.abs(A_true - A_mle).mean()))\n",
    "print(\"Average abs error, emission matrix: {:.3f}\" \\\n",
    "          .format(np.abs(B_true - B_mle).mean()))"
   ]
  },
  {
   "cell_type": "markdown",
   "metadata": {},
   "source": [
    "... much better than random guess"
   ]
  },
  {
   "cell_type": "code",
   "execution_count": 9,
   "metadata": {
    "ExecuteTime": {
     "end_time": "2018-08-11T22:59:07.993219Z",
     "start_time": "2018-08-11T22:59:07.959243Z"
    }
   },
   "outputs": [
    {
     "name": "stdout",
     "output_type": "stream",
     "text": [
      "Random guess...\n",
      "Average abs error, transition matrix: 0.334\n",
      "Average abs error, emission matrix: 0.354\n"
     ]
    }
   ],
   "source": [
    "A_err_rand = []\n",
    "B_err_rand = []\n",
    "\n",
    "for i in range(1000):\n",
    "    A_err_rand.append(np.abs(A_true - \\\n",
    "                             np.random.uniform(size=A_true.shape)).mean())\n",
    "    B_err_rand.append(np.abs(B_true - \\\n",
    "                             np.random.uniform(size=B_true.shape)).mean())\n",
    "\n",
    "print(\"Random guess...\")\n",
    "print(\"Average abs error, transition matrix: {:.3f}\" \\\n",
    "            .format(np.mean(A_err_rand)))\n",
    "print(\"Average abs error, emission matrix: {:.3f}\" \\\n",
    "            .format(np.mean(B_err_rand)))"
   ]
  },
  {
   "cell_type": "markdown",
   "metadata": {},
   "source": [
    "Let's make the same estimations using Baum-Welch algorithm"
   ]
  },
  {
   "cell_type": "code",
   "execution_count": 10,
   "metadata": {
    "ExecuteTime": {
     "end_time": "2018-08-11T23:03:40.774222Z",
     "start_time": "2018-08-11T22:59:11.492102Z"
    },
    "scrolled": true
   },
   "outputs": [],
   "source": [
    "%%capture\n",
    "trainer = hmm.HiddenMarkovModelTrainer(states=states, symbols=symbols)\n",
    "model_bw = trainer.train_unsupervised([list((obs[0],) for obs in seq)])\n",
    "\n",
    "A_bw = get_probabilities_matrix(model_bw, kind=\"transition\")\n",
    "B_bw = get_probabilities_matrix(model_bw, kind=\"emission\")"
   ]
  },
  {
   "cell_type": "markdown",
   "metadata": {},
   "source": [
    "... not too far from random guess. Probably, this is because of small sequence length for this approach."
   ]
  },
  {
   "cell_type": "code",
   "execution_count": 11,
   "metadata": {
    "ExecuteTime": {
     "end_time": "2018-08-11T23:03:40.783144Z",
     "start_time": "2018-08-11T23:03:40.776583Z"
    }
   },
   "outputs": [
    {
     "name": "stdout",
     "output_type": "stream",
     "text": [
      "Unsupervised estimation...\n",
      "Average abs error, transition matrix: 0.185\n",
      "Average abs error, emission matrix: 0.270\n"
     ]
    }
   ],
   "source": [
    "print(\"Unsupervised estimation...\")\n",
    "print(\"Average abs error, transition matrix: {:.3f}\" \\\n",
    "          .format(np.abs(A_true - A_bw).mean()))\n",
    "print(\"Average abs error, emission matrix: {:.3f}\" \\\n",
    "          .format(np.abs(B_true - B_bw).mean()))"
   ]
  },
  {
   "cell_type": "markdown",
   "metadata": {},
   "source": [
    "And lastly, try unsupervised approach on top of supervised estimation"
   ]
  },
  {
   "cell_type": "code",
   "execution_count": 12,
   "metadata": {
    "ExecuteTime": {
     "end_time": "2018-08-11T23:08:10.621368Z",
     "start_time": "2018-08-11T23:03:40.786514Z"
    }
   },
   "outputs": [],
   "source": [
    "%%capture\n",
    "trainer = hmm.HiddenMarkovModelTrainer(states=states, symbols=symbols)\n",
    "model_cmb = trainer.train(labeled_sequences=[seq], \n",
    "                          unlabeled_sequences=[list((obs[0], \"\") for obs in seq)])\n",
    "\n",
    "A_cmb = get_probabilities_matrix(model_cmb, kind=\"transition\")\n",
    "B_cmb = get_probabilities_matrix(model_cmb, kind=\"emission\")"
   ]
  },
  {
   "cell_type": "markdown",
   "metadata": {},
   "source": [
    "... worse than MLE algorithm, so let's settle on supervised (MLE) approach for further analysis."
   ]
  },
  {
   "cell_type": "code",
   "execution_count": 13,
   "metadata": {
    "ExecuteTime": {
     "end_time": "2018-08-11T23:08:10.627284Z",
     "start_time": "2018-08-11T23:08:10.623325Z"
    }
   },
   "outputs": [
    {
     "name": "stdout",
     "output_type": "stream",
     "text": [
      "Combined estimation...\n",
      "Average abs error, transition matrix: 0.107\n",
      "Average abs error, emission matrix: 0.136\n"
     ]
    }
   ],
   "source": [
    "print(\"Combined estimation...\")\n",
    "print(\"Average abs error, transition matrix: {:.3f}\" \\\n",
    "          .format(np.abs(A_true - A_cmb).mean()))\n",
    "print(\"Average abs error, emission matrix: {:.3f}\" \\\n",
    "          .format(np.abs(B_true - B_cmb).mean()))"
   ]
  },
  {
   "cell_type": "markdown",
   "metadata": {},
   "source": [
    "Now we can generate **test** sequence using **true** model ..."
   ]
  },
  {
   "cell_type": "code",
   "execution_count": 14,
   "metadata": {
    "ExecuteTime": {
     "end_time": "2018-08-11T23:08:10.642236Z",
     "start_time": "2018-08-11T23:08:10.629043Z"
    }
   },
   "outputs": [],
   "source": [
    "seq_test = model_true.random_sample(rng=np.random, length=365)\n",
    "hidden_test_true = [obs[1] for obs in seq_test]"
   ]
  },
  {
   "cell_type": "markdown",
   "metadata": {},
   "source": [
    "... and try to recover sequence of hidden states knowing only observed states (using our best model)"
   ]
  },
  {
   "cell_type": "code",
   "execution_count": 15,
   "metadata": {
    "ExecuteTime": {
     "end_time": "2018-08-11T23:08:10.659447Z",
     "start_time": "2018-08-11T23:08:10.643773Z"
    }
   },
   "outputs": [
    {
     "name": "stdout",
     "output_type": "stream",
     "text": [
      "             precision    recall  f1-score   support\n",
      "\n",
      "      angry       0.44      0.74      0.55        98\n",
      "      happy       0.54      0.44      0.49       102\n",
      "     normal       0.51      0.29      0.37       111\n",
      "      tired       0.47      0.46      0.47        54\n",
      "\n",
      "avg / total       0.49      0.48      0.47       365\n",
      "\n"
     ]
    }
   ],
   "source": [
    "hidden_test_pred = model_mle.best_path([obs[0] for obs in seq_test])\n",
    "print(classification_report(hidden_test_true, hidden_test_pred))"
   ]
  },
  {
   "cell_type": "markdown",
   "metadata": {
    "ExecuteTime": {
     "end_time": "2018-08-11T22:37:01.749482Z",
     "start_time": "2018-08-11T22:37:01.744532Z"
    }
   },
   "source": [
    "Prediction quality is around $50\\%$. Seems to be low, but let's try with random prediction:"
   ]
  },
  {
   "cell_type": "code",
   "execution_count": 16,
   "metadata": {
    "ExecuteTime": {
     "end_time": "2018-08-11T23:08:10.667406Z",
     "start_time": "2018-08-11T23:08:10.661546Z"
    }
   },
   "outputs": [
    {
     "name": "stdout",
     "output_type": "stream",
     "text": [
      "             precision    recall  f1-score   support\n",
      "\n",
      "      angry       0.33      0.33      0.33        98\n",
      "      happy       0.26      0.23      0.24       102\n",
      "     normal       0.29      0.23      0.26       111\n",
      "      tired       0.15      0.24      0.18        54\n",
      "\n",
      "avg / total       0.27      0.26      0.26       365\n",
      "\n"
     ]
    }
   ],
   "source": [
    "hidden_test_rand = np.random.choice(a=states, size=365)\n",
    "print(classification_report(hidden_test_true, hidden_test_rand))"
   ]
  },
  {
   "cell_type": "markdown",
   "metadata": {},
   "source": [
    "... and using model with **true** parameters:"
   ]
  },
  {
   "cell_type": "code",
   "execution_count": 17,
   "metadata": {
    "ExecuteTime": {
     "end_time": "2018-08-11T23:08:10.684437Z",
     "start_time": "2018-08-11T23:08:10.669635Z"
    }
   },
   "outputs": [
    {
     "name": "stdout",
     "output_type": "stream",
     "text": [
      "             precision    recall  f1-score   support\n",
      "\n",
      "      angry       0.50      0.61      0.55        98\n",
      "      happy       0.49      0.57      0.52       102\n",
      "     normal       0.47      0.32      0.38       111\n",
      "      tired       0.52      0.50      0.51        54\n",
      "\n",
      "avg / total       0.49      0.49      0.48       365\n",
      "\n"
     ]
    }
   ],
   "source": [
    "hidden_test = model_true.best_path([obs[0] for obs in seq_test])\n",
    "print(classification_report(hidden_test_true, hidden_test))"
   ]
  },
  {
   "cell_type": "markdown",
   "metadata": {},
   "source": [
    "We have obtained roughly the same quality with **true** parameters. <br>\n",
    "It means that there is a lot of uncertainty in underlying data, our fitted model did its best, and the rest is randomness, which is unpredictable."
   ]
  }
 ],
 "metadata": {
  "hide_input": false,
  "kernelspec": {
   "display_name": "Python 3",
   "language": "python",
   "name": "python3"
  },
  "language_info": {
   "codemirror_mode": {
    "name": "ipython",
    "version": 3
   },
   "file_extension": ".py",
   "mimetype": "text/x-python",
   "name": "python",
   "nbconvert_exporter": "python",
   "pygments_lexer": "ipython3",
   "version": "3.6.4"
  },
  "toc": {
   "base_numbering": 1,
   "nav_menu": {},
   "number_sections": false,
   "sideBar": true,
   "skip_h1_title": false,
   "title_cell": "Table of Contents",
   "title_sidebar": "Contents",
   "toc_cell": false,
   "toc_position": {
    "height": "calc(100% - 180px)",
    "left": "10px",
    "top": "150px",
    "width": "384px"
   },
   "toc_section_display": true,
   "toc_window_display": false
  }
 },
 "nbformat": 4,
 "nbformat_minor": 2
}
